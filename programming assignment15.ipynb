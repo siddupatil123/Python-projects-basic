{
 "cells": [
  {
   "cell_type": "code",
   "execution_count": null,
   "id": "9369d9ef",
   "metadata": {},
   "outputs": [],
   "source": [
    "Question 1:\n",
    "Please write a program using generator to print the numbers which can be divisible by 5 and\n",
    "7 between 0 and n in comma separated form while n is input by console."
   ]
  },
  {
   "cell_type": "code",
   "execution_count": 2,
   "id": "1f65d2e3",
   "metadata": {},
   "outputs": [
    {
     "name": "stdout",
     "output_type": "stream",
     "text": [
      "enter n : 100\n",
      "0,35,70\n"
     ]
    }
   ],
   "source": [
    "def test(n): \n",
    "    i = 0 \n",
    "    while i < n:\n",
    "        j = i\n",
    "        i += 1 \n",
    "        if j % 7 == 0 and j % 5 == 0:\n",
    "            yield j\n",
    "n = int(input('enter n : '))\n",
    "l =[]\n",
    "for i in test(n): \n",
    "    l.append(str(i))\n",
    "    \n",
    "print(','.join(l))"
   ]
  },
  {
   "cell_type": "code",
   "execution_count": null,
   "id": "7d113fdb",
   "metadata": {},
   "outputs": [],
   "source": [
    "Question 2:\n",
    "Please write a program using generator to print the even numbers between 0 and n in comma\n",
    "separated form while n is input by console."
   ]
  },
  {
   "cell_type": "code",
   "execution_count": 3,
   "id": "1654ee3b",
   "metadata": {},
   "outputs": [
    {
     "name": "stdout",
     "output_type": "stream",
     "text": [
      "enter n : 10\n",
      "0,2,4,6,8\n"
     ]
    }
   ],
   "source": [
    "def test2(n): \n",
    "    i = 0 \n",
    "    while i < n:\n",
    "        j = i\n",
    "        i += 1 \n",
    "        if j % 2 == 0:\n",
    "            yield j\n",
    "n = int(input('enter n : '))\n",
    "l =[]\n",
    "for i in test2(n): \n",
    "    l.append(str(i))\n",
    "    \n",
    "print(','.join(l))"
   ]
  },
  {
   "cell_type": "code",
   "execution_count": null,
   "id": "a221bbbe",
   "metadata": {},
   "outputs": [],
   "source": [
    "Question 3:\n",
    "The Fibonacci Sequence is computed based on the following formula:\n",
    "f(n)=0 if n=0\n",
    "f(n)=1 if n=1\n",
    "f(n)=f(n-1)+f(n-2) if n&gt;1\n",
    "Please write a program using list comprehension to print the Fibonacci Sequence in comma\n",
    "separated form with a given n input by console."
   ]
  },
  {
   "cell_type": "code",
   "execution_count": 3,
   "id": "840e7846",
   "metadata": {},
   "outputs": [
    {
     "name": "stdout",
     "output_type": "stream",
     "text": [
      "Enter a number :10\n",
      "0,1,1,2,3,5,8,13,21,34,55\n"
     ]
    }
   ],
   "source": [
    "def test3(n):    \n",
    "    if n == 0: \n",
    "            return 0    \n",
    "    elif n == 1: \n",
    "            return 1    \n",
    "    else: \n",
    "            return test3(n-1)+test3(n-2)\n",
    "n=int(input('Enter a number :')) \n",
    "values = [str(test3(i)) for i in range(0, n+1)] \n",
    "print(\",\".join(values))"
   ]
  },
  {
   "cell_type": "code",
   "execution_count": null,
   "id": "29e746ac",
   "metadata": {},
   "outputs": [],
   "source": [
    "Question 4:\n",
    "Assuming that we have some email addresses in the &quot;username@companyname.com&quot; format,\n",
    "please write program to print the user name of a given email address. Both user names and\n",
    "company names are composed of letters only."
   ]
  },
  {
   "cell_type": "code",
   "execution_count": 13,
   "id": "4c0e0672",
   "metadata": {},
   "outputs": [
    {
     "name": "stdout",
     "output_type": "stream",
     "text": [
      "the user name is  ineuron\n"
     ]
    }
   ],
   "source": [
    "s=\"ineuron@google.com\"\n",
    "p=s[0:7]\n",
    "print(f\"the user name is  {p}\")"
   ]
  },
  {
   "cell_type": "code",
   "execution_count": null,
   "id": "97e85b51",
   "metadata": {},
   "outputs": [],
   "source": [
    "Question 5:\n",
    "Define a class named Shape and its subclass Square. The Square class has an init function\n",
    "which takes a length as argument. Both classes have a area function which can print the area\n",
    "of the shape where Shape&#39;s area is 0 by default."
   ]
  },
  {
   "cell_type": "code",
   "execution_count": 14,
   "id": "e878415b",
   "metadata": {},
   "outputs": [
    {
     "name": "stdout",
     "output_type": "stream",
     "text": [
      "25\n"
     ]
    }
   ],
   "source": [
    "class Shape(object):\n",
    "    def __init__(self):\n",
    "        pass\n",
    "\n",
    "    def area(self):\n",
    "        return 0\n",
    "\n",
    "class Square(Shape):\n",
    "    def __init__(self, l):\n",
    "        Shape.__init__(self)\n",
    "        self.length = l\n",
    "\n",
    "    def area(self):\n",
    "        return self.length*self.length\n",
    "\n",
    "objSquare= Square(5)\n",
    "print(objSquare.area())"
   ]
  },
  {
   "cell_type": "code",
   "execution_count": null,
   "id": "53e8d2ae",
   "metadata": {},
   "outputs": [],
   "source": []
  }
 ],
 "metadata": {
  "kernelspec": {
   "display_name": "Python 3 (ipykernel)",
   "language": "python",
   "name": "python3"
  },
  "language_info": {
   "codemirror_mode": {
    "name": "ipython",
    "version": 3
   },
   "file_extension": ".py",
   "mimetype": "text/x-python",
   "name": "python",
   "nbconvert_exporter": "python",
   "pygments_lexer": "ipython3",
   "version": "3.9.12"
  }
 },
 "nbformat": 4,
 "nbformat_minor": 5
}
