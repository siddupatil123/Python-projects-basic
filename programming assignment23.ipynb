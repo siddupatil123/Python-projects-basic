{
 "cells": [
  {
   "cell_type": "code",
   "execution_count": null,
   "id": "0f6b3bbb",
   "metadata": {},
   "outputs": [],
   "source": [
    "Question 1\n",
    "Create a function that takes a number as an argument and returns True or False depending\n",
    "on whether the number is symmetrical or not. A number is symmetrical when it is the same as\n",
    "its reverse."
   ]
  },
  {
   "cell_type": "code",
   "execution_count": 135,
   "id": "2ea8b041",
   "metadata": {},
   "outputs": [],
   "source": [
    "def test():\n",
    "    num=1221\n",
    "    rev=0\n",
    "    while num!=0:\n",
    "        digit=num%10\n",
    "        rev=rev*10+digit\n",
    "        num=num//10\n",
    "        if rev==num:\n",
    "            return True\n",
    "    else:\n",
    "        return False"
   ]
  },
  {
   "cell_type": "code",
   "execution_count": 136,
   "id": "b3aa1fda",
   "metadata": {},
   "outputs": [
    {
     "data": {
      "text/plain": [
       "True"
      ]
     },
     "execution_count": 136,
     "metadata": {},
     "output_type": "execute_result"
    }
   ],
   "source": [
    "test()"
   ]
  },
  {
   "cell_type": "code",
   "execution_count": null,
   "id": "b3906c53",
   "metadata": {},
   "outputs": [],
   "source": [
    "Question 2\n",
    "Given a string of numbers separated by a comma and space, return the product of the\n",
    "numbers."
   ]
  },
  {
   "cell_type": "code",
   "execution_count": 38,
   "id": "4b0eb1f9",
   "metadata": {},
   "outputs": [],
   "source": [
    "def test2():\n",
    "    s=\"2\",\"3\"\n",
    "    j=1\n",
    "    for i in s:\n",
    "        k=int(i)*j\n",
    "        j=k\n",
    "       \n",
    "    return k"
   ]
  },
  {
   "cell_type": "code",
   "execution_count": 39,
   "id": "2f273134",
   "metadata": {},
   "outputs": [
    {
     "data": {
      "text/plain": [
       "6"
      ]
     },
     "execution_count": 39,
     "metadata": {},
     "output_type": "execute_result"
    }
   ],
   "source": [
    "test2()"
   ]
  },
  {
   "cell_type": "code",
   "execution_count": null,
   "id": "0389c9b0",
   "metadata": {},
   "outputs": [],
   "source": [
    "Question 3\n",
    "Create a function that squares every digit of a number."
   ]
  },
  {
   "cell_type": "code",
   "execution_count": 66,
   "id": "a29420a3",
   "metadata": {},
   "outputs": [],
   "source": [
    "def test3():\n",
    "    num=\"9119\"\n",
    "    l=[]\n",
    "    for i in num:\n",
    "        k=int(i)**2\n",
    "        l.append(k)\n",
    "    \n",
    "\n",
    "    return l"
   ]
  },
  {
   "cell_type": "code",
   "execution_count": 67,
   "id": "44461a4c",
   "metadata": {},
   "outputs": [
    {
     "data": {
      "text/plain": [
       "[81, 1, 1, 81]"
      ]
     },
     "execution_count": 67,
     "metadata": {},
     "output_type": "execute_result"
    }
   ],
   "source": [
    "test3()"
   ]
  },
  {
   "cell_type": "code",
   "execution_count": null,
   "id": "b49fc94e",
   "metadata": {},
   "outputs": [],
   "source": [
    "Question 4\n",
    "Create a function that sorts a list and removes all duplicate items from it."
   ]
  },
  {
   "cell_type": "code",
   "execution_count": 76,
   "id": "efbb9948",
   "metadata": {},
   "outputs": [],
   "source": [
    "def test4():\n",
    "    l=[1,3,3,5,5]\n",
    "    k=list(set(l))\n",
    "    return k"
   ]
  },
  {
   "cell_type": "code",
   "execution_count": 77,
   "id": "a5e7a5a9",
   "metadata": {},
   "outputs": [
    {
     "data": {
      "text/plain": [
       "[1, 3, 5]"
      ]
     },
     "execution_count": 77,
     "metadata": {},
     "output_type": "execute_result"
    }
   ],
   "source": [
    "test4()"
   ]
  },
  {
   "cell_type": "code",
   "execution_count": null,
   "id": "33e32c56",
   "metadata": {},
   "outputs": [],
   "source": [
    "Question 5\n",
    "Create a function that returns the mean of all digits."
   ]
  },
  {
   "cell_type": "code",
   "execution_count": 103,
   "id": "9a05169c",
   "metadata": {},
   "outputs": [],
   "source": [
    "def test5(n):\n",
    "    sum=0\n",
    "    len_of_n=3\n",
    "    for i in str(n):\n",
    "        sum=sum+int(i)\n",
    "       \n",
    "    mean=int(sum/len_of_n)\n",
    "\n",
    "    return mean\n",
    "    \n"
   ]
  },
  {
   "cell_type": "code",
   "execution_count": 104,
   "id": "02878329",
   "metadata": {},
   "outputs": [
    {
     "data": {
      "text/plain": [
       "2"
      ]
     },
     "execution_count": 104,
     "metadata": {},
     "output_type": "execute_result"
    }
   ],
   "source": [
    "test5(512)"
   ]
  },
  {
   "cell_type": "code",
   "execution_count": null,
   "id": "029d89f8",
   "metadata": {},
   "outputs": [],
   "source": []
  }
 ],
 "metadata": {
  "kernelspec": {
   "display_name": "Python 3 (ipykernel)",
   "language": "python",
   "name": "python3"
  },
  "language_info": {
   "codemirror_mode": {
    "name": "ipython",
    "version": 3
   },
   "file_extension": ".py",
   "mimetype": "text/x-python",
   "name": "python",
   "nbconvert_exporter": "python",
   "pygments_lexer": "ipython3",
   "version": "3.9.12"
  }
 },
 "nbformat": 4,
 "nbformat_minor": 5
}
