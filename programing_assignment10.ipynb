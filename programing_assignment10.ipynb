{
  "nbformat": 4,
  "nbformat_minor": 0,
  "metadata": {
    "colab": {
      "provenance": [],
      "collapsed_sections": []
    },
    "kernelspec": {
      "name": "python3",
      "display_name": "Python 3"
    },
    "language_info": {
      "name": "python"
    }
  },
  "cells": [
    {
      "cell_type": "markdown",
      "source": [
        "1. Write a Python program to find sum of elements in list?"
      ],
      "metadata": {
        "id": "W3IA5iLp8WnW"
      }
    },
    {
      "cell_type": "code",
      "source": [
        "l=[1,2,3,4,5,6]\n",
        "total=0\n",
        "for i in range(0,len(l)):\n",
        "  if type(i)==int:\n",
        "    total=total+l[i]\n",
        "    print(f\"the sum of the elements is :{total}\")"
      ],
      "metadata": {
        "colab": {
          "base_uri": "https://localhost:8080/"
        },
        "id": "K5Ep7RaT8nBa",
        "outputId": "c84d0607-1ac8-4c1d-b354-21c03b3a0475"
      },
      "execution_count": 19,
      "outputs": [
        {
          "output_type": "stream",
          "name": "stdout",
          "text": [
            "the sum of the elements is :1\n",
            "the sum of the elements is :3\n",
            "the sum of the elements is :6\n",
            "the sum of the elements is :10\n",
            "the sum of the elements is :15\n",
            "the sum of the elements is :21\n"
          ]
        }
      ]
    },
    {
      "cell_type": "markdown",
      "source": [
        "2. Write a Python program to Multiply all numbers in the list?"
      ],
      "metadata": {
        "id": "NHVvH9noAhqU"
      }
    },
    {
      "cell_type": "code",
      "source": [
        "l=[1,2,3,4,5]\n",
        "total=1\n",
        "for i in range(len(l)):\n",
        "  if type(i)==int:\n",
        "     total=total*l[i]\n",
        "     print(f\"the multipication of all elements is:{total}\")"
      ],
      "metadata": {
        "colab": {
          "base_uri": "https://localhost:8080/"
        },
        "id": "aLBlK5H3-iJy",
        "outputId": "fc91969b-1bc0-4a8f-fb5c-c35455146d1c"
      },
      "execution_count": 25,
      "outputs": [
        {
          "output_type": "stream",
          "name": "stdout",
          "text": [
            "the multipication of all elements is:1\n",
            "the multipication of all elements is:2\n",
            "the multipication of all elements is:6\n",
            "the multipication of all elements is:24\n",
            "the multipication of all elements is:120\n"
          ]
        }
      ]
    },
    {
      "cell_type": "markdown",
      "source": [
        "3. Write a Python program to find smallest number in a list?"
      ],
      "metadata": {
        "id": "2OexABFFBToJ"
      }
    },
    {
      "cell_type": "code",
      "source": [
        "l=[1,2,3,4,5] \n",
        "for i in l:\n",
        "  \n",
        "\n",
        "     k=min(l)\n",
        "     print(k)"
      ],
      "metadata": {
        "colab": {
          "base_uri": "https://localhost:8080/"
        },
        "id": "361_6zkNBHM8",
        "outputId": "8cd6ce95-7cb1-485b-9cd6-880f43aaff97"
      },
      "execution_count": 54,
      "outputs": [
        {
          "output_type": "stream",
          "name": "stdout",
          "text": [
            "1\n",
            "1\n",
            "1\n",
            "1\n",
            "1\n"
          ]
        }
      ]
    },
    {
      "cell_type": "markdown",
      "source": [
        "4. Write a Python program to find largest number in a list?"
      ],
      "metadata": {
        "id": "BxG2z-wvFOZ3"
      }
    },
    {
      "cell_type": "code",
      "source": [
        "l=[1,2,3,4,5,6,3,4,5]\n",
        "for i in l:\n",
        "  if type(i)==int:\n",
        "    k=max(l)\n",
        "    print(k)"
      ],
      "metadata": {
        "colab": {
          "base_uri": "https://localhost:8080/"
        },
        "id": "zoz74zrHB8Aq",
        "outputId": "f6f935c5-8bc3-48ec-c1f6-4a72df044e34"
      },
      "execution_count": 117,
      "outputs": [
        {
          "output_type": "stream",
          "name": "stdout",
          "text": [
            "6\n",
            "6\n",
            "6\n",
            "6\n",
            "6\n",
            "6\n",
            "6\n",
            "6\n",
            "6\n"
          ]
        }
      ]
    },
    {
      "cell_type": "markdown",
      "source": [
        "5. Write a Python program to find second largest number in a list?"
      ],
      "metadata": {
        "id": "u3fjnlOUMw4f"
      }
    },
    {
      "cell_type": "code",
      "source": [
        "l=[1,2,3,4,5,6,78,7,8]\n",
        "l.sort()\n",
        "for i in l:\n",
        "  if type(i)==int:\n",
        "   print(len(l)-1)"
      ],
      "metadata": {
        "colab": {
          "base_uri": "https://localhost:8080/"
        },
        "id": "3lwCy1ffMygL",
        "outputId": "aab6e0a4-e8d0-42c2-8017-e15ea7c4f793"
      },
      "execution_count": 177,
      "outputs": [
        {
          "output_type": "stream",
          "name": "stdout",
          "text": [
            "8\n",
            "8\n",
            "8\n",
            "8\n",
            "8\n",
            "8\n",
            "8\n",
            "8\n",
            "8\n"
          ]
        }
      ]
    },
    {
      "cell_type": "markdown",
      "source": [
        "7. Write a Python program to print even numbers in a list?"
      ],
      "metadata": {
        "id": "xunParJeFy2S"
      }
    },
    {
      "cell_type": "code",
      "source": [
        "l=[1,2,3,4,5,6,7,8,9,10]\n",
        "for i in range(len(l)):\n",
        "  if i%2==0:\n",
        "    print(i)"
      ],
      "metadata": {
        "colab": {
          "base_uri": "https://localhost:8080/"
        },
        "id": "4qfoBFgnFid6",
        "outputId": "83b0d372-7cee-4b5f-81ce-ff98d4d56692"
      },
      "execution_count": 60,
      "outputs": [
        {
          "output_type": "stream",
          "name": "stdout",
          "text": [
            "0\n",
            "2\n",
            "4\n",
            "6\n",
            "8\n"
          ]
        }
      ]
    },
    {
      "cell_type": "markdown",
      "source": [
        "8. Write a Python program to print odd numbers in a List?"
      ],
      "metadata": {
        "id": "OMjYXycvGENr"
      }
    },
    {
      "cell_type": "code",
      "source": [
        "l=[1,2,3,4,5,6,7,8,9]\n",
        "for i in range(len(l)):\n",
        "  if i%2!=0:\n",
        "    print(i)"
      ],
      "metadata": {
        "colab": {
          "base_uri": "https://localhost:8080/"
        },
        "id": "iRjI9yI4F8jW",
        "outputId": "8831a9ad-0ff9-40c1-e0e9-27fcde4e61de"
      },
      "execution_count": 59,
      "outputs": [
        {
          "output_type": "stream",
          "name": "stdout",
          "text": [
            "1\n",
            "3\n",
            "5\n",
            "7\n"
          ]
        }
      ]
    },
    {
      "cell_type": "markdown",
      "source": [
        "9. Write a Python program to Remove empty List from List?"
      ],
      "metadata": {
        "id": "48tvqLYrHIOw"
      }
    },
    {
      "cell_type": "code",
      "source": [
        "l=[1,2,3,4,5,[],9,56,78,86,\"siddu\"]\n",
        "l1=[]\n",
        "for i in l:\n",
        "  if type(i)==int:\n",
        "    l1.append(i)\n",
        "  elif type(i)==str:\n",
        "    l1.append(i)\n",
        "\n",
        "    "
      ],
      "metadata": {
        "id": "gllTQMCTHJxv"
      },
      "execution_count": 97,
      "outputs": []
    },
    {
      "cell_type": "code",
      "source": [
        "l1"
      ],
      "metadata": {
        "colab": {
          "base_uri": "https://localhost:8080/"
        },
        "id": "lmDwqpK8HiSS",
        "outputId": "2e7bd5b4-83c1-4149-be34-3cd28d3ac451"
      },
      "execution_count": 98,
      "outputs": [
        {
          "output_type": "execute_result",
          "data": {
            "text/plain": [
              "[1, 2, 3, 4, 5, 9, 56, 78, 86, 'siddu']"
            ]
          },
          "metadata": {},
          "execution_count": 98
        }
      ]
    },
    {
      "cell_type": "markdown",
      "source": [
        "10. Write a Python program to Cloning or Copying a list?"
      ],
      "metadata": {
        "id": "fNERXroYGg3t"
      }
    },
    {
      "cell_type": "code",
      "source": [
        "l=[1,2,3,4,5,\"siddu\",\"patil\"]\n",
        "l1=[]\n",
        "for i in l:\n",
        "  l1.append(i)\n",
        "  print(l1)\n"
      ],
      "metadata": {
        "colab": {
          "base_uri": "https://localhost:8080/"
        },
        "id": "Acwn7gxZGO8F",
        "outputId": "1a45bb2c-ac33-4d1a-aa0f-51519cfaee93"
      },
      "execution_count": 61,
      "outputs": [
        {
          "output_type": "stream",
          "name": "stdout",
          "text": [
            "[1]\n",
            "[1, 2]\n",
            "[1, 2, 3]\n",
            "[1, 2, 3, 4]\n",
            "[1, 2, 3, 4, 5]\n",
            "[1, 2, 3, 4, 5, 'siddu']\n",
            "[1, 2, 3, 4, 5, 'siddu', 'patil']\n"
          ]
        }
      ]
    },
    {
      "cell_type": "code",
      "source": [
        "l1"
      ],
      "metadata": {
        "colab": {
          "base_uri": "https://localhost:8080/"
        },
        "id": "YslOvOjsG0bp",
        "outputId": "c9a198fc-4b86-4478-a5d2-7d34a71787c6"
      },
      "execution_count": 62,
      "outputs": [
        {
          "output_type": "execute_result",
          "data": {
            "text/plain": [
              "[1, 2, 3, 4, 5, 'siddu', 'patil']"
            ]
          },
          "metadata": {},
          "execution_count": 62
        }
      ]
    },
    {
      "cell_type": "markdown",
      "source": [
        "11. Write a Python program to Count occurrences of an element in a list?"
      ],
      "metadata": {
        "id": "iz4CCxp-KqxP"
      }
    },
    {
      "cell_type": "code",
      "source": [
        "l=[1,2,3,4,4,4,5,6]\n",
        "for i in l:\n",
        "    l.count(i)\n",
        "    print(i,   l.count(i))\n",
        "   \n",
        "   \n",
        "  "
      ],
      "metadata": {
        "colab": {
          "base_uri": "https://localhost:8080/"
        },
        "id": "Oy7veQbeG44f",
        "outputId": "8c46d097-71cb-4429-8dbe-8d40e1348f56"
      },
      "execution_count": 118,
      "outputs": [
        {
          "output_type": "stream",
          "name": "stdout",
          "text": [
            "1 1\n",
            "2 1\n",
            "3 1\n",
            "4 3\n",
            "4 3\n",
            "4 3\n",
            "5 1\n",
            "6 1\n"
          ]
        }
      ]
    },
    {
      "cell_type": "code",
      "source": [],
      "metadata": {
        "id": "Z9K-HvHTLPFK"
      },
      "execution_count": null,
      "outputs": []
    }
  ]
}