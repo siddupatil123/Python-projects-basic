{
  "nbformat": 4,
  "nbformat_minor": 0,
  "metadata": {
    "colab": {
      "provenance": [],
      "collapsed_sections": []
    },
    "kernelspec": {
      "name": "python3",
      "display_name": "Python 3"
    },
    "language_info": {
      "name": "python"
    }
  },
  "cells": [
    {
      "cell_type": "markdown",
      "source": [
        "1. Write a Python Program to Find the Factorial of a Number?"
      ],
      "metadata": {
        "id": "PeEqaK5SROY1"
      }
    },
    {
      "cell_type": "code",
      "execution_count": 6,
      "metadata": {
        "colab": {
          "base_uri": "https://localhost:8080/"
        },
        "id": "H7ZJddkkRDVu",
        "outputId": "f7c24c06-6c9f-4019-b85f-0dd1734270bd"
      },
      "outputs": [
        {
          "output_type": "stream",
          "name": "stdout",
          "text": [
            "enter the value: 5\n",
            "1\n",
            "the factorial of:5 is 1\n",
            "2\n",
            "the factorial of:5 is 2\n",
            "3\n",
            "the factorial of:5 is 6\n",
            "4\n",
            "the factorial of:5 is 24\n",
            "5\n",
            "the factorial of:5 is 120\n"
          ]
        }
      ],
      "source": [
        "number=int(input(\"enter the value: \"))\n",
        "factorial=1\n",
        "for i in range(1,number+1):\n",
        "  factorial =factorial*i\n",
        "  print(i)\n",
        "  print(f\"the factorial of:{number} is {factorial}\")\n",
        "  \n",
        "  "
      ]
    },
    {
      "cell_type": "markdown",
      "source": [
        "2. Write a Python Program to Display the multiplication Table?"
      ],
      "metadata": {
        "id": "aFIwAdbKWZVE"
      }
    },
    {
      "cell_type": "code",
      "source": [
        "number=int(input(\"enter the number: \"))\n",
        "for i in range(1,11):\n",
        "       s=number*i\n",
        "       print(f\"{number}*{i}={s}\")"
      ],
      "metadata": {
        "colab": {
          "base_uri": "https://localhost:8080/"
        },
        "id": "vmunfGEwTJiT",
        "outputId": "55915045-8671-42cf-de39-a1d7ec060b45"
      },
      "execution_count": 2,
      "outputs": [
        {
          "output_type": "stream",
          "name": "stdout",
          "text": [
            "enter the number: 5\n",
            "5*1=5\n",
            "5*2=10\n",
            "5*3=15\n",
            "5*4=20\n",
            "5*5=25\n",
            "5*6=30\n",
            "5*7=35\n",
            "5*8=40\n",
            "5*9=45\n",
            "5*10=50\n"
          ]
        }
      ]
    },
    {
      "cell_type": "markdown",
      "source": [
        "3. Write a Python Program to Print the Fibonacci sequence?"
      ],
      "metadata": {
        "id": "-NE9YZ3TY2hJ"
      }
    },
    {
      "cell_type": "code",
      "source": [
        "number=int(input(\"enter the value: \"))\n",
        "k,l,p=0,1,0\n",
        "for i in range(1,number):\n",
        "  f=k+l\n",
        "  k=l\n",
        "  l=f\n",
        "  print(f)\n",
        "  "
      ],
      "metadata": {
        "colab": {
          "base_uri": "https://localhost:8080/"
        },
        "id": "8F8yTYkmX5pt",
        "outputId": "de2097ef-741d-49d7-ad2c-b43440a0cd30"
      },
      "execution_count": 3,
      "outputs": [
        {
          "output_type": "stream",
          "name": "stdout",
          "text": [
            "enter the value: 6\n",
            "1\n",
            "2\n",
            "3\n",
            "5\n",
            "8\n"
          ]
        }
      ]
    },
    {
      "cell_type": "markdown",
      "source": [
        "4. Write a Python Program to Check Armstrong Number?"
      ],
      "metadata": {
        "id": "6RR2ZHQxepUk"
      }
    },
    {
      "cell_type": "code",
      "source": [
        "number=int(input(\"enter the number: \"))\n",
        "i=0\n",
        "while i<=number:\n",
        "  k=number*(number+1)/2\n",
        "  print(k)\n",
        "  break\n",
        "  i=i+1"
      ],
      "metadata": {
        "colab": {
          "base_uri": "https://localhost:8080/"
        },
        "id": "jvixHB34k19h",
        "outputId": "85f96ad2-d071-4895-cdbf-213f515de68b"
      },
      "execution_count": 5,
      "outputs": [
        {
          "output_type": "stream",
          "name": "stdout",
          "text": [
            "enter the number: 10\n",
            "55.0\n"
          ]
        }
      ]
    }
  ]
}