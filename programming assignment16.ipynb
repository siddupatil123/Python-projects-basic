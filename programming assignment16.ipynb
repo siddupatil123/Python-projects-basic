{
 "cells": [
  {
   "cell_type": "code",
   "execution_count": null,
   "id": "b1da2c66",
   "metadata": {},
   "outputs": [],
   "source": [
    "Question1. Write a function that stutters a word as if someone is struggling to read it. The\n",
    "first two letters are repeated twice with an ellipsis ... and space after each, and then the\n",
    "word is pronounced with a question mark ?."
   ]
  },
  {
   "cell_type": "code",
   "execution_count": 106,
   "id": "db311996",
   "metadata": {},
   "outputs": [],
   "source": [
    "def test():\n",
    "    n=\"incrediable?\"\n",
    "    k=n.split(\" \")\n",
    "    l=[]\n",
    "    for i in k:\n",
    "\n",
    "        s=str((i[0],i[1],...,i[0],i[1],...,n))\n",
    "        f=\"\".join(s)\n",
    "        return f"
   ]
  },
  {
   "cell_type": "code",
   "execution_count": 107,
   "id": "4896f4bb",
   "metadata": {},
   "outputs": [
    {
     "data": {
      "text/plain": [
       "\"('i', 'n', Ellipsis, 'i', 'n', Ellipsis, 'incrediable?')\""
      ]
     },
     "execution_count": 107,
     "metadata": {},
     "output_type": "execute_result"
    }
   ],
   "source": [
    "test()"
   ]
  },
  {
   "cell_type": "code",
   "execution_count": null,
   "id": "106849ac",
   "metadata": {},
   "outputs": [],
   "source": [
    "Question 2.Create a function that takes an angle in radians and returns the corresponding\n",
    "angle in degrees rounded to one decimal place."
   ]
  },
  {
   "cell_type": "code",
   "execution_count": 63,
   "id": "a3db2fa8",
   "metadata": {},
   "outputs": [],
   "source": [
    "def test1(n):\n",
    "    a=float((n*180)/3.14)\n",
    "    return a"
   ]
  },
  {
   "cell_type": "code",
   "execution_count": 64,
   "id": "9ba8b180",
   "metadata": {},
   "outputs": [
    {
     "data": {
      "text/plain": [
       "57.324840764331206"
      ]
     },
     "execution_count": 64,
     "metadata": {},
     "output_type": "execute_result"
    }
   ],
   "source": [
    "test1(1)"
   ]
  },
  {
   "cell_type": "code",
   "execution_count": null,
   "id": "25bbe24f",
   "metadata": {},
   "outputs": [],
   "source": [
    "Question 3. In this challenge, establish if a given integer num is a Curzon number. If 1 plus\n",
    "2 elevated to num is exactly divisible by 1 plus 2 multiplied by num, then num is a Curzon\n",
    "number.\n",
    "Given a non-negative integer num, implement a function that returns True if num is a Curzon\n",
    "number, or False otherwise."
   ]
  },
  {
   "cell_type": "code",
   "execution_count": 65,
   "id": "169c1abd",
   "metadata": {},
   "outputs": [],
   "source": [
    "def test2(n):\n",
    "    a=2**n+1\n",
    "    b=2*5+1\n",
    "    if a%b==0:\n",
    "        return True\n",
    "    else:\n",
    "        return False\n",
    "    "
   ]
  },
  {
   "cell_type": "code",
   "execution_count": 68,
   "id": "16d08c09",
   "metadata": {},
   "outputs": [
    {
     "data": {
      "text/plain": [
       "False"
      ]
     },
     "execution_count": 68,
     "metadata": {},
     "output_type": "execute_result"
    }
   ],
   "source": [
    "test2(10)"
   ]
  },
  {
   "cell_type": "code",
   "execution_count": null,
   "id": "899cfcbd",
   "metadata": {},
   "outputs": [],
   "source": [
    "Question 4.Given the side length x find the area of a hexagon."
   ]
  },
  {
   "cell_type": "code",
   "execution_count": 71,
   "id": "d843fae5",
   "metadata": {},
   "outputs": [],
   "source": [
    "def test3(n):\n",
    "    a=float(3*1.732*(n**2))\n",
    "    b=a/2\n",
    "    return b\n",
    "    \n",
    "    "
   ]
  },
  {
   "cell_type": "code",
   "execution_count": 72,
   "id": "823237af",
   "metadata": {},
   "outputs": [
    {
     "data": {
      "text/plain": [
       "10.392"
      ]
     },
     "execution_count": 72,
     "metadata": {},
     "output_type": "execute_result"
    }
   ],
   "source": [
    "test3(2)"
   ]
  },
  {
   "cell_type": "code",
   "execution_count": null,
   "id": "6cf4cc06",
   "metadata": {},
   "outputs": [],
   "source": []
  }
 ],
 "metadata": {
  "kernelspec": {
   "display_name": "Python 3 (ipykernel)",
   "language": "python",
   "name": "python3"
  },
  "language_info": {
   "codemirror_mode": {
    "name": "ipython",
    "version": 3
   },
   "file_extension": ".py",
   "mimetype": "text/x-python",
   "name": "python",
   "nbconvert_exporter": "python",
   "pygments_lexer": "ipython3",
   "version": "3.9.12"
  }
 },
 "nbformat": 4,
 "nbformat_minor": 5
}
