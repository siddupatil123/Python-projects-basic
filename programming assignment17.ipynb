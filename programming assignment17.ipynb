{
 "cells": [
  {
   "cell_type": "code",
   "execution_count": null,
   "id": "05b7ef5b",
   "metadata": {},
   "outputs": [],
   "source": [
    "Question1. Create a function that takes three arguments a, b, c and returns the sum of the\n",
    "numbers that are evenly divided by c from the range a, b inclusive."
   ]
  },
  {
   "cell_type": "code",
   "execution_count": 76,
   "id": "b1ab8ad0",
   "metadata": {},
   "outputs": [],
   "source": [
    "def test(a,b,c):\n",
    "    \n",
    "    sum=0\n",
    "    j=0\n",
    "    for i in range(a,b+1):\n",
    "        if i%c==0:\n",
    "            j=sum+i\n",
    "            sum=j\n",
    "            \n",
    "            \n",
    "            \n",
    "    return j\n",
    "            \n",
    "\n",
    "         "
   ]
  },
  {
   "cell_type": "code",
   "execution_count": 77,
   "id": "a5052f5a",
   "metadata": {},
   "outputs": [
    {
     "data": {
      "text/plain": [
       "30"
      ]
     },
     "execution_count": 77,
     "metadata": {},
     "output_type": "execute_result"
    }
   ],
   "source": [
    "test(1,10,2)"
   ]
  },
  {
   "cell_type": "code",
   "execution_count": null,
   "id": "abe41e41",
   "metadata": {},
   "outputs": [],
   "source": [
    "Question2. Create a function that returns True if a given inequality expression is correct and\n",
    "False otherwise."
   ]
  },
  {
   "cell_type": "code",
   "execution_count": 102,
   "id": "b0e9802a",
   "metadata": {},
   "outputs": [],
   "source": [
    "def test2(n):\n",
    "    regex=eval(n)\n",
    "    if regex:\n",
    "        return True\n",
    "    else:\n",
    "        return False"
   ]
  },
  {
   "cell_type": "code",
   "execution_count": 104,
   "id": "268d9ccb",
   "metadata": {},
   "outputs": [
    {
     "data": {
      "text/plain": [
       "False"
      ]
     },
     "execution_count": 104,
     "metadata": {},
     "output_type": "execute_result"
    }
   ],
   "source": [
    "test2(\"3>4>8>9\")"
   ]
  },
  {
   "cell_type": "code",
   "execution_count": null,
   "id": "9e19f7a1",
   "metadata": {},
   "outputs": [],
   "source": [
    "Question3. Create a function that replaces all the vowels in a string with a specified character."
   ]
  },
  {
   "cell_type": "code",
   "execution_count": 17,
   "id": "fccf7ba5",
   "metadata": {},
   "outputs": [],
   "source": [
    "def test4():\n",
    "    v=\"the ardvark\"\n",
    "    ent=\"#\"\n",
    "    \n",
    "    for i in range(len(v)):\n",
    "        if v[i]==\"a\"or v[i]==\"e\" or v[i]==\"i\" or v[i]==\"o\" or v[i]==\"u\":\n",
    "             v=v.replace(v[i],\"#\")\n",
    "            \n",
    "           \n",
    "    \n",
    "    return v\n",
    "        "
   ]
  },
  {
   "cell_type": "code",
   "execution_count": 18,
   "id": "396027a4",
   "metadata": {},
   "outputs": [
    {
     "data": {
      "text/plain": [
       "'th# #rdv#rk'"
      ]
     },
     "execution_count": 18,
     "metadata": {},
     "output_type": "execute_result"
    }
   ],
   "source": [
    "test4()"
   ]
  },
  {
   "cell_type": "code",
   "execution_count": null,
   "id": "3a763ad6",
   "metadata": {},
   "outputs": [],
   "source": [
    "Question4. Write a function that calculates the factorial of a number recursively."
   ]
  },
  {
   "cell_type": "code",
   "execution_count": 38,
   "id": "6e5fc433",
   "metadata": {},
   "outputs": [],
   "source": [
    "def test3(n):\n",
    "    sum=1\n",
    "    k=0\n",
    "    for i in range(1,n+1):\n",
    "        k=sum*i\n",
    "        sum=k\n",
    "    return k\n",
    "        "
   ]
  },
  {
   "cell_type": "code",
   "execution_count": 39,
   "id": "4dfc442a",
   "metadata": {},
   "outputs": [
    {
     "data": {
      "text/plain": [
       "120"
      ]
     },
     "execution_count": 39,
     "metadata": {},
     "output_type": "execute_result"
    }
   ],
   "source": [
    "test3(5)"
   ]
  },
  {
   "cell_type": "code",
   "execution_count": null,
   "id": "7f1771d9",
   "metadata": {},
   "outputs": [],
   "source": [
    "Question 5\n",
    "Hamming distance is the number of characters that differ between two strings."
   ]
  },
  {
   "cell_type": "code",
   "execution_count": 65,
   "id": "424bb2b5",
   "metadata": {},
   "outputs": [],
   "source": [
    "def test4(s1,s2):\n",
    "    l=len(s1)\n",
    "    dis=0\n",
    "    for i in range(l):\n",
    "        if s1[i]!=s2[i]:\n",
    "            dis=dis+1\n",
    "            \n",
    "       \n",
    "    \n",
    "    return dis"
   ]
  },
  {
   "cell_type": "code",
   "execution_count": 67,
   "id": "8eba250f",
   "metadata": {},
   "outputs": [
    {
     "data": {
      "text/plain": [
       "1"
      ]
     },
     "execution_count": 67,
     "metadata": {},
     "output_type": "execute_result"
    }
   ],
   "source": [
    "test4(\"strong\",\"strung\")"
   ]
  },
  {
   "cell_type": "code",
   "execution_count": null,
   "id": "da63c55e",
   "metadata": {},
   "outputs": [],
   "source": []
  },
  {
   "cell_type": "code",
   "execution_count": null,
   "id": "bc50b873",
   "metadata": {},
   "outputs": [],
   "source": []
  }
 ],
 "metadata": {
  "kernelspec": {
   "display_name": "Python 3 (ipykernel)",
   "language": "python",
   "name": "python3"
  },
  "language_info": {
   "codemirror_mode": {
    "name": "ipython",
    "version": 3
   },
   "file_extension": ".py",
   "mimetype": "text/x-python",
   "name": "python",
   "nbconvert_exporter": "python",
   "pygments_lexer": "ipython3",
   "version": "3.9.12"
  }
 },
 "nbformat": 4,
 "nbformat_minor": 5
}
