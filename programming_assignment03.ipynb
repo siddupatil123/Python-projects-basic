{
  "nbformat": 4,
  "nbformat_minor": 0,
  "metadata": {
    "colab": {
      "provenance": []
    },
    "kernelspec": {
      "name": "python3",
      "display_name": "Python 3"
    },
    "language_info": {
      "name": "python"
    }
  },
  "cells": [
    {
      "cell_type": "markdown",
      "source": [
        "Write a Python Program to Check if a Number is Positive, Negative or Zero?"
      ],
      "metadata": {
        "id": "z-Yl4lztJ1rI"
      }
    },
    {
      "cell_type": "code",
      "source": [
        "number=int(input(\"enter the number: \"))\n",
        "if number==0:\n",
        "  print(\"the number is zero\")\n",
        "elif number>0:\n",
        "  print(\"the number is positive\")\n",
        "else:\n",
        "  print(\"the number is negative\")"
      ],
      "metadata": {
        "colab": {
          "base_uri": "https://localhost:8080/"
        },
        "id": "D9pwSRamKcOC",
        "outputId": "20d401ef-e98d-4545-e68e-9816a2e346cc"
      },
      "execution_count": null,
      "outputs": [
        {
          "output_type": "stream",
          "name": "stdout",
          "text": [
            "enter the number: -2\n",
            "the number is negative\n"
          ]
        }
      ]
    },
    {
      "cell_type": "markdown",
      "source": [
        "2. Write a Python Program to Check if a Number is Odd or Even?"
      ],
      "metadata": {
        "id": "EnK75awEMjOm"
      }
    },
    {
      "cell_type": "code",
      "source": [
        "num=int(input(\"enter the value:  \"))\n",
        "if num%2==0:\n",
        "  print(\"the number is even\")\n",
        "else:\n",
        "  print(\"the number is odd\")"
      ],
      "metadata": {
        "colab": {
          "base_uri": "https://localhost:8080/"
        },
        "id": "gI-AL9MTMaJK",
        "outputId": "28e87946-49fb-4d0e-b98c-d5fd3df60acd"
      },
      "execution_count": null,
      "outputs": [
        {
          "output_type": "stream",
          "name": "stdout",
          "text": [
            "enter the value:  13\n",
            "the number is odd\n"
          ]
        }
      ]
    },
    {
      "cell_type": "markdown",
      "source": [
        "3. Write a Python Program to Check Leap Year?"
      ],
      "metadata": {
        "id": "_FtmsQPoNDU4"
      }
    },
    {
      "cell_type": "code",
      "source": [
        "year=int(input(\"enter a year: \"))\n",
        "if year%4==0 or year%400==0:\n",
        "  print(\"the year is leap year\")\n",
        "else:\n",
        "  print(\"the year is not leap year\")"
      ],
      "metadata": {
        "colab": {
          "base_uri": "https://localhost:8080/"
        },
        "id": "IkWcs8E6M3_c",
        "outputId": "5fb97a93-be18-4b14-9155-c70d62fd3722"
      },
      "execution_count": null,
      "outputs": [
        {
          "output_type": "stream",
          "name": "stdout",
          "text": [
            "enter a year: 2024\n",
            "the year is leap year\n"
          ]
        }
      ]
    },
    {
      "cell_type": "markdown",
      "source": [
        "4. Write a Python Program to Check Prime Number?"
      ],
      "metadata": {
        "id": "IiTYvpRvNrMf"
      }
    },
    {
      "cell_type": "code",
      "source": [
        "number=int(input(\"enter a number: \"))\n",
        "for i in range(2,number):    #beacuse prime number starts from 2\n",
        "  if number%i==0:\n",
        "    print(\"it is a  not prime\")\n",
        "    break\n",
        "else:\n",
        "  print(\" it is prime\")"
      ],
      "metadata": {
        "colab": {
          "base_uri": "https://localhost:8080/"
        },
        "id": "08qRx-0hNa37",
        "outputId": "3470b890-5603-4006-9284-d990cc0c1fe7"
      },
      "execution_count": null,
      "outputs": [
        {
          "output_type": "stream",
          "name": "stdout",
          "text": [
            "enter a number: 11\n",
            " it is prime\n"
          ]
        }
      ]
    },
    {
      "cell_type": "markdown",
      "source": [
        "5. Write a Python Program to Print all Prime Numbers in an Interval of 1-10000?"
      ],
      "metadata": {
        "id": "0Uw7LvaVQkK-"
      }
    },
    {
      "cell_type": "code",
      "source": [
        "number=100\n",
        "for i in range(2,100):\n",
        "  if number%i==0:\n",
        "    break\n",
        "else:\n",
        "  print(number)\n",
        "    \n"
      ],
      "metadata": {
        "id": "Fex3jQK9PBLH"
      },
      "execution_count": 50,
      "outputs": []
    },
    {
      "cell_type": "code",
      "source": [],
      "metadata": {
        "id": "vu10vX0wQ7Tk"
      },
      "execution_count": null,
      "outputs": []
    }
  ]
}