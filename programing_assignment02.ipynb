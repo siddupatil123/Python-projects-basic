{
  "nbformat": 4,
  "nbformat_minor": 0,
  "metadata": {
    "colab": {
      "provenance": []
    },
    "kernelspec": {
      "name": "python3",
      "display_name": "Python 3"
    },
    "language_info": {
      "name": "python"
    }
  },
  "cells": [
    {
      "cell_type": "markdown",
      "source": [
        "1. Write a Python program to convert kilometers to miles?"
      ],
      "metadata": {
        "id": "qqIvoG264V7b"
      }
    },
    {
      "cell_type": "code",
      "execution_count": 1,
      "metadata": {
        "colab": {
          "base_uri": "https://localhost:8080/"
        },
        "id": "y1Szkdrk4EX_",
        "outputId": "6d7f6e28-4e60-4635-bf78-a90b7ea9e72b"
      },
      "outputs": [
        {
          "output_type": "stream",
          "name": "stdout",
          "text": [
            "enter a value of a: 5\n",
            "the value of km in mile is:3.105\n"
          ]
        }
      ],
      "source": [
        "a=float(input(\"enter a value of a: \"))\n",
        "b=a*0.621\n",
        "print(f\"the value of km in mile is:{b}\")"
      ]
    },
    {
      "cell_type": "markdown",
      "source": [
        "2. Write a Python program to convert Celsius to Fahrenheit?"
      ],
      "metadata": {
        "id": "xEk4ssgg5cyY"
      }
    },
    {
      "cell_type": "code",
      "source": [
        "celsius=int(input(\"enter the celsius value: \"))\n",
        "fahren=9/5*celsius+32\n",
        "print(f\"the value of fahrenheit is:{fahren}\") "
      ],
      "metadata": {
        "colab": {
          "base_uri": "https://localhost:8080/"
        },
        "id": "qhXeyBod5Dim",
        "outputId": "413409af-0cf3-4377-c95c-dfeed9efbe9f"
      },
      "execution_count": 3,
      "outputs": [
        {
          "output_type": "stream",
          "name": "stdout",
          "text": [
            "enter the celsius value: 5\n",
            "the value of fahrenheit is:41.0\n"
          ]
        }
      ]
    },
    {
      "cell_type": "markdown",
      "source": [
        "3. Write a Python program to display calendar?"
      ],
      "metadata": {
        "id": "m613NwGf6f-v"
      }
    },
    {
      "cell_type": "code",
      "source": [
        "year=input(\"enter the year: \")\n",
        "month=input(\"enter the month: \")\n",
        "date=input(\"enter the date: \")\n",
        "print(f\"the calender date is :{date},{month},{year}\")"
      ],
      "metadata": {
        "colab": {
          "base_uri": "https://localhost:8080/"
        },
        "id": "v4ZJVCV26QgL",
        "outputId": "1d8206e3-dd58-459c-9b41-cb78fc881595"
      },
      "execution_count": 4,
      "outputs": [
        {
          "output_type": "stream",
          "name": "stdout",
          "text": [
            "enter the year: 1999\n",
            "enter the month: 07\n",
            "enter the date: 01\n",
            "the calender date is :01,07,1999\n"
          ]
        }
      ]
    },
    {
      "cell_type": "markdown",
      "source": [
        "4.Write a Python program to solve quadratic equation?"
      ],
      "metadata": {
        "id": "9m84lpSZ7KxC"
      }
    },
    {
      "cell_type": "code",
      "source": [
        "a=float(input(\"enter value of a: \"))\n",
        "b=float(input(\"enter value of b: \"))\n",
        "c=float(input(\"enter value of c: \"))\n",
        "if b**2==4*a*c:\n",
        "  print(\"both roots are equal\")\n",
        "elif b**2<4*a*c:\n",
        "  print(\"roots are complex not real\")\n",
        "elif b**2>4*a*c:\n",
        "  print(\"roots are real and different\")\n",
        "else:\n",
        "  print(\"enter the correct value\")"
      ],
      "metadata": {
        "colab": {
          "base_uri": "https://localhost:8080/"
        },
        "id": "EXMBOiXgDNDL",
        "outputId": "fbe0544f-4c77-48b7-c721-889db004b9b1"
      },
      "execution_count": 22,
      "outputs": [
        {
          "output_type": "stream",
          "name": "stdout",
          "text": [
            "enter value of a: 5\n",
            "enter value of b: 6\n",
            "enter value of c: 7\n",
            "roots are complex not real\n"
          ]
        }
      ]
    },
    {
      "cell_type": "markdown",
      "source": [
        "5. Write a Python program to swap two variables without temp variable?"
      ],
      "metadata": {
        "id": "6x3yzGQ-G7mY"
      }
    },
    {
      "cell_type": "code",
      "source": [
        "a=input(\"enter the value of a: \")\n",
        "b=input(\"enter the value of b: \")\n",
        "a,b=b,a\n",
        "print(a)\n",
        "print(b)"
      ],
      "metadata": {
        "colab": {
          "base_uri": "https://localhost:8080/"
        },
        "id": "w4ojFOXOGowi",
        "outputId": "b302b5b6-aa7b-4069-a977-9d19b756583e"
      },
      "execution_count": 23,
      "outputs": [
        {
          "output_type": "stream",
          "name": "stdout",
          "text": [
            "enter the value of a: 12\n",
            "enter the value of b: 45\n",
            "45\n",
            "12\n"
          ]
        }
      ]
    },
    {
      "cell_type": "code",
      "source": [],
      "metadata": {
        "id": "BcKIon0_HYzk"
      },
      "execution_count": null,
      "outputs": []
    }
  ]
}