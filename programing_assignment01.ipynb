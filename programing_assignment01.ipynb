{
  "nbformat": 4,
  "nbformat_minor": 0,
  "metadata": {
    "colab": {
      "provenance": []
    },
    "kernelspec": {
      "name": "python3",
      "display_name": "Python 3"
    },
    "language_info": {
      "name": "python"
    }
  },
  "cells": [
    {
      "cell_type": "markdown",
      "source": [
        "1. Write a Python program to print \"Hello Python\"\n",
        "\n"
      ],
      "metadata": {
        "id": "dh1iaUXQubL-"
      }
    },
    {
      "cell_type": "code",
      "execution_count": 3,
      "metadata": {
        "colab": {
          "base_uri": "https://localhost:8080/"
        },
        "id": "7GteQlRIuRiH",
        "outputId": "79bb1df4-0866-494f-cad0-c554074872be"
      },
      "outputs": [
        {
          "output_type": "stream",
          "name": "stdout",
          "text": [
            "Hello Python\n"
          ]
        }
      ],
      "source": [
        "print(\"Hello Python\")"
      ]
    },
    {
      "cell_type": "markdown",
      "source": [
        "2. Write a Python program to do arithmetical operations addition and division.?"
      ],
      "metadata": {
        "id": "p5pw9aLVvD4H"
      }
    },
    {
      "cell_type": "code",
      "source": [
        "a=int(input(\"enter the value of a:  \"))\n",
        "b=int(input(\"enter the value of b:  \"))\n",
        "print(f\"the sum of a and b is:{a+b}\")\n",
        "print(f\"the division of a and b is:{a/b}\")"
      ],
      "metadata": {
        "colab": {
          "base_uri": "https://localhost:8080/"
        },
        "id": "kFb0MSHxu77L",
        "outputId": "fe06a2a4-c107-4868-e656-d698191b7a6c"
      },
      "execution_count": 2,
      "outputs": [
        {
          "output_type": "stream",
          "name": "stdout",
          "text": [
            "enter the value of a:  12\n",
            "enter the value of b:  14\n",
            "the sum of a and b is:26\n",
            "the division of a and b is:0.8571428571428571\n"
          ]
        }
      ]
    },
    {
      "cell_type": "markdown",
      "source": [
        "3. Write a Python program to find the area of a triangle?"
      ],
      "metadata": {
        "id": "UtZDO6tuwKEM"
      }
    },
    {
      "cell_type": "code",
      "source": [
        "height=int(input(\"enter the height value:  \"))\n",
        "breadth=int(input(\"enter the breadth value: \"))\n",
        "area_of_triangle=0.5*height*breadth\n",
        "print(f\" area of triangle is :{area_of_triangle}\")"
      ],
      "metadata": {
        "colab": {
          "base_uri": "https://localhost:8080/"
        },
        "id": "4yn6H9oVwHj4",
        "outputId": "2adf5746-d489-4724-baaa-986065a22e50"
      },
      "execution_count": 4,
      "outputs": [
        {
          "output_type": "stream",
          "name": "stdout",
          "text": [
            "enter the height value:  12\n",
            "enter the breadth value: 5\n",
            " area of triangle is :30.0\n"
          ]
        }
      ]
    },
    {
      "cell_type": "markdown",
      "source": [
        "4. Write a Python program to swap two variables?"
      ],
      "metadata": {
        "id": "PcMDkw5Hy8Bw"
      }
    },
    {
      "cell_type": "code",
      "source": [
        "s=str(input(\"enter value: \"))\n",
        "p=str(input(\"enter value: \"))\n",
        "s,p=p,s\n",
        "print(\"s=\",  s)\n",
        "print(\"p=\",  p)\n"
      ],
      "metadata": {
        "colab": {
          "base_uri": "https://localhost:8080/"
        },
        "id": "H3wUScErxCXS",
        "outputId": "5d626118-6208-4030-dba3-6ac85a28caaf"
      },
      "execution_count": 7,
      "outputs": [
        {
          "output_type": "stream",
          "name": "stdout",
          "text": [
            "enter value: siddu\n",
            "enter value: patil\n",
            "s= patil\n",
            "p= siddu\n"
          ]
        }
      ]
    },
    {
      "cell_type": "markdown",
      "source": [
        "5. Write a Python program to generate a random number?"
      ],
      "metadata": {
        "id": "JsRHJRg7zDrK"
      }
    },
    {
      "cell_type": "code",
      "source": [
        "\n",
        "n=random.randint(1,10)\n",
        "print(n)"
      ],
      "metadata": {
        "colab": {
          "base_uri": "https://localhost:8080/"
        },
        "id": "pLmhB-rDzUaF",
        "outputId": "9860b2f3-4f5f-412d-ff0a-b604141235a2"
      },
      "execution_count": 12,
      "outputs": [
        {
          "output_type": "stream",
          "name": "stdout",
          "text": [
            "5\n"
          ]
        }
      ]
    },
    {
      "cell_type": "code",
      "source": [],
      "metadata": {
        "id": "cux5rBqtzoZD"
      },
      "execution_count": null,
      "outputs": []
    }
  ]
}