{
 "cells": [
  {
   "cell_type": "code",
   "execution_count": null,
   "id": "68bdc312",
   "metadata": {},
   "outputs": [],
   "source": [
    "Question1\n",
    "Write a function that takes a list and a number as arguments. Add the number to the end of\n",
    "the list, then remove the first element of the list. The function should then return the updated\n",
    "list."
   ]
  },
  {
   "cell_type": "code",
   "execution_count": 8,
   "id": "ccf0eb00",
   "metadata": {},
   "outputs": [],
   "source": [
    "def test(l,a):\n",
    "    for i in l:\n",
    "        l.append(a)\n",
    "        l.pop(0)\n",
    "        return l\n",
    "        \n",
    "    "
   ]
  },
  {
   "cell_type": "code",
   "execution_count": 11,
   "id": "47e6214a",
   "metadata": {},
   "outputs": [
    {
     "data": {
      "text/plain": [
       "[6, 7, 8, 9, 1]"
      ]
     },
     "execution_count": 11,
     "metadata": {},
     "output_type": "execute_result"
    }
   ],
   "source": [
    "test([5,6,7,8,9],1)  #required output"
   ]
  },
  {
   "cell_type": "code",
   "execution_count": null,
   "id": "a2ebf5d4",
   "metadata": {},
   "outputs": [],
   "source": [
    "Question2\n",
    "Create the function that takes a list of dictionaries and returns the sum of people&#39;s budgets."
   ]
  },
  {
   "cell_type": "code",
   "execution_count": 236,
   "id": "637e7b28",
   "metadata": {},
   "outputs": [],
   "source": [
    " def test2():\n",
    "    data=[{\"name\":\"siddu\",\"age\":21,\"budget\":2000},{\"name\":\"patil\",\"age\":24,\"budget\":3000},{\"name\":\"ineuron\",\"age\":45,\"budget\":5000}]\n",
    "    list_of_values=list(map(lambda d:d[\"budget\"],data))\n",
    "    j=0\n",
    "    for i in list_of_values:\n",
    "        k=i+j\n",
    "        j=k\n",
    "        \n",
    "    return k\n"
   ]
  },
  {
   "cell_type": "code",
   "execution_count": 237,
   "id": "9c7f5539",
   "metadata": {},
   "outputs": [
    {
     "data": {
      "text/plain": [
       "10000"
      ]
     },
     "execution_count": 237,
     "metadata": {},
     "output_type": "execute_result"
    }
   ],
   "source": [
    "test2()"
   ]
  },
  {
   "cell_type": "code",
   "execution_count": null,
   "id": "28726bd3",
   "metadata": {},
   "outputs": [],
   "source": [
    "Question3\n",
    "Create a function that takes a string and returns a string with its letters in alphabetical order."
   ]
  },
  {
   "cell_type": "code",
   "execution_count": 211,
   "id": "8c148289",
   "metadata": {},
   "outputs": [],
   "source": [
    "def test3(s):\n",
    "    l=[]\n",
    "    for i in range(len(s)):\n",
    "        l.append(s[i])\n",
    "        l.sort()\n",
    "        k=\"\".join(l)\n",
    " \n",
    "       \n",
    "    return k\n",
    "\n"
   ]
  },
  {
   "cell_type": "code",
   "execution_count": 212,
   "id": "b09b48d0",
   "metadata": {},
   "outputs": [
    {
     "data": {
      "text/plain": [
       "'ehlllo'"
      ]
     },
     "execution_count": 212,
     "metadata": {},
     "output_type": "execute_result"
    }
   ],
   "source": [
    "test3(\"helllo\")"
   ]
  },
  {
   "cell_type": "code",
   "execution_count": 152,
   "id": "6b567ff2",
   "metadata": {},
   "outputs": [
    {
     "data": {
      "text/plain": [
       "'\"\"Question4\\nSuppose that you invest $10,000 for 10 years at an interest rate of 6% compounded monthly.\\nWhat will be the value of your investment at the end of the 10 year period?\\nCreate a function that accepts the principal p, the term in years t, the interest rate r, and the\\nnumber of compounding periods per year n. The function returns the value at the end of term\\nrounded to the nearest cent.'"
      ]
     },
     "execution_count": 152,
     "metadata": {},
     "output_type": "execute_result"
    }
   ],
   "source": [
    "\"\"\"\"\"Question4\n",
    "Suppose that you invest $10,000 for 10 years at an interest rate of 6% compounded monthly.\n",
    "What will be the value of your investment at the end of the 10 year period?\n",
    "Create a function that accepts the principal p, the term in years t, the interest rate r, and the\n",
    "number of compounding periods per year n. The function returns the value at the end of term\n",
    "rounded to the nearest cent.\"\"\""
   ]
  },
  {
   "cell_type": "code",
   "execution_count": 93,
   "id": "b29eed44",
   "metadata": {},
   "outputs": [],
   "source": [
    "def test4(p,t,r,n):\n",
    "    k=1+r/n\n",
    "    s=k**(n*t)\n",
    "    v=p*s\n",
    "    return v"
   ]
  },
  {
   "cell_type": "code",
   "execution_count": 95,
   "id": "b1f51bc3",
   "metadata": {},
   "outputs": [
    {
     "data": {
      "text/plain": [
       "18193.9673403229"
      ]
     },
     "execution_count": 95,
     "metadata": {},
     "output_type": "execute_result"
    }
   ],
   "source": [
    "test4(10000,10,0.06,12) #expected output"
   ]
  },
  {
   "cell_type": "code",
   "execution_count": null,
   "id": "23df6043",
   "metadata": {},
   "outputs": [],
   "source": [
    "Question5\n",
    "Write a function that takes a list of elements and returns only the integers."
   ]
  },
  {
   "cell_type": "code",
   "execution_count": 98,
   "id": "431f5e90",
   "metadata": {},
   "outputs": [],
   "source": [
    "def test5():\n",
    "    l=[\"ineuron\",18,\"bangalore\",98,100,\"mysore\"]\n",
    "    l1=[]\n",
    "    for i in l:\n",
    "        if type(i)==int:\n",
    "            l1.append(i)\n",
    "          \n",
    "    return l1\n",
    "        "
   ]
  },
  {
   "cell_type": "code",
   "execution_count": 99,
   "id": "55fd1503",
   "metadata": {},
   "outputs": [
    {
     "data": {
      "text/plain": [
       "[18, 98, 100]"
      ]
     },
     "execution_count": 99,
     "metadata": {},
     "output_type": "execute_result"
    }
   ],
   "source": [
    "test5()"
   ]
  },
  {
   "cell_type": "code",
   "execution_count": null,
   "id": "f10ab8e0",
   "metadata": {},
   "outputs": [],
   "source": []
  }
 ],
 "metadata": {
  "kernelspec": {
   "display_name": "Python 3 (ipykernel)",
   "language": "python",
   "name": "python3"
  },
  "language_info": {
   "codemirror_mode": {
    "name": "ipython",
    "version": 3
   },
   "file_extension": ".py",
   "mimetype": "text/x-python",
   "name": "python",
   "nbconvert_exporter": "python",
   "pygments_lexer": "ipython3",
   "version": "3.9.12"
  }
 },
 "nbformat": 4,
 "nbformat_minor": 5
}
