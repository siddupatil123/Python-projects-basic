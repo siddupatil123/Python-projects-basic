{
 "cells": [
  {
   "cell_type": "code",
   "execution_count": null,
   "id": "713e14d0",
   "metadata": {},
   "outputs": [],
   "source": [
    "Question1\n",
    "Create a function that takes a string and returns a string in which each character is repeated\n",
    "once."
   ]
  },
  {
   "cell_type": "code",
   "execution_count": 28,
   "id": "0a89ada3",
   "metadata": {},
   "outputs": [],
   "source": [
    "def test(str):\n",
    "    return ''.join([i+i for i in str])"
   ]
  },
  {
   "cell_type": "code",
   "execution_count": 29,
   "id": "a0262323",
   "metadata": {},
   "outputs": [
    {
     "data": {
      "text/plain": [
       "'ssttrriinngg'"
      ]
     },
     "execution_count": 29,
     "metadata": {},
     "output_type": "execute_result"
    }
   ],
   "source": [
    "test(\"string\")"
   ]
  },
  {
   "cell_type": "code",
   "execution_count": null,
   "id": "6f5d5289",
   "metadata": {},
   "outputs": [],
   "source": [
    "Question2\n",
    "Create a function that reverses a boolean value and returns the string &quot;boolean expected&quot;\n",
    "if another variable type is given."
   ]
  },
  {
   "cell_type": "code",
   "execution_count": 30,
   "id": "24def1e1",
   "metadata": {},
   "outputs": [],
   "source": [
    "def test1(n):\n",
    "    if n==True:\n",
    "        return False\n",
    "    elif n==False:\n",
    "        return True\n",
    "    elif n!=True or n!=False:\n",
    "        return \"boolean expected\""
   ]
  },
  {
   "cell_type": "code",
   "execution_count": 35,
   "id": "438e0b5b",
   "metadata": {},
   "outputs": [
    {
     "data": {
      "text/plain": [
       "'boolean expected'"
      ]
     },
     "execution_count": 35,
     "metadata": {},
     "output_type": "execute_result"
    }
   ],
   "source": [
    "test1(2)"
   ]
  },
  {
   "cell_type": "code",
   "execution_count": null,
   "id": "f2f8b558",
   "metadata": {},
   "outputs": [],
   "source": [
    "Question3\n",
    "Create a function that returns the thickness (in meters) of a piece of paper after folding it n\n",
    "number of times. The paper starts off with a thickness of 0.5mm."
   ]
  },
  {
   "cell_type": "code",
   "execution_count": 40,
   "id": "ead5bc17",
   "metadata": {},
   "outputs": [],
   "source": [
    "def test2(n):\n",
    "    thickness = 0.5\n",
    "    for i in range(n):\n",
    "        thickness=thickness* 2\n",
    "    \n",
    "    return str(thickness / 1000)+'m'"
   ]
  },
  {
   "cell_type": "code",
   "execution_count": 41,
   "id": "7b7c0da9",
   "metadata": {},
   "outputs": [
    {
     "data": {
      "text/plain": [
       "'1048.576m'"
      ]
     },
     "execution_count": 41,
     "metadata": {},
     "output_type": "execute_result"
    }
   ],
   "source": [
    "test2(21)"
   ]
  },
  {
   "cell_type": "code",
   "execution_count": null,
   "id": "ab3fafc3",
   "metadata": {},
   "outputs": [],
   "source": [
    "Question4\n",
    "Create a function that takes a single string as argument and returns an ordered list containing the indices of all capital letters in the string.\n"
   ]
  },
  {
   "cell_type": "code",
   "execution_count": 54,
   "id": "ce6e434e",
   "metadata": {},
   "outputs": [],
   "source": [
    "def test3(str):\n",
    "    l=[]\n",
    "    for i in range(len(str)):\n",
    "        if str[i].isupper():\n",
    "            l.append(i)\n",
    "            \n",
    "    return l\n",
    "        \n",
    "    "
   ]
  },
  {
   "cell_type": "code",
   "execution_count": 55,
   "id": "92fa1653",
   "metadata": {},
   "outputs": [
    {
     "data": {
      "text/plain": [
       "[1, 3, 5]"
      ]
     },
     "execution_count": 55,
     "metadata": {},
     "output_type": "execute_result"
    }
   ],
   "source": [
    "test3(\"eDaBiT\")"
   ]
  },
  {
   "cell_type": "code",
   "execution_count": null,
   "id": "3248abbd",
   "metadata": {},
   "outputs": [],
   "source": [
    "Question5\n",
    "Using list comprehensions, create a function that finds all even numbers from 1 to the given number"
   ]
  },
  {
   "cell_type": "code",
   "execution_count": 63,
   "id": "4ee7f113",
   "metadata": {},
   "outputs": [],
   "source": [
    "def test5(n):\n",
    "    l=[i  for i in range(1,n+1) if i%2==0]\n",
    "    return l"
   ]
  },
  {
   "cell_type": "code",
   "execution_count": 64,
   "id": "93a2642e",
   "metadata": {},
   "outputs": [
    {
     "data": {
      "text/plain": [
       "[2, 4, 6, 8]"
      ]
     },
     "execution_count": 64,
     "metadata": {},
     "output_type": "execute_result"
    }
   ],
   "source": [
    "test5(8)"
   ]
  },
  {
   "cell_type": "code",
   "execution_count": null,
   "id": "9b530eed",
   "metadata": {},
   "outputs": [],
   "source": []
  }
 ],
 "metadata": {
  "kernelspec": {
   "display_name": "Python 3 (ipykernel)",
   "language": "python",
   "name": "python3"
  },
  "language_info": {
   "codemirror_mode": {
    "name": "ipython",
    "version": 3
   },
   "file_extension": ".py",
   "mimetype": "text/x-python",
   "name": "python",
   "nbconvert_exporter": "python",
   "pygments_lexer": "ipython3",
   "version": "3.9.12"
  }
 },
 "nbformat": 4,
 "nbformat_minor": 5
}
