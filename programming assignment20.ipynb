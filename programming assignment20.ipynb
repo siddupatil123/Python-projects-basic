{
 "cells": [
  {
   "cell_type": "code",
   "execution_count": null,
   "id": "cec7558e",
   "metadata": {},
   "outputs": [],
   "source": [
    "Question1\n",
    "Create a function that takes a list of strings and integers, and filters out the list so that it\n",
    "returns a list of integers only"
   ]
  },
  {
   "cell_type": "code",
   "execution_count": 42,
   "id": "6604a0ba",
   "metadata": {},
   "outputs": [],
   "source": [
    "def test():\n",
    "    l=[\"siddu\",23,\"patil\",87,98,\"ineuron\",100]\n",
    "    l1=[]\n",
    "    for i in l:\n",
    "        if type(i)==int:\n",
    "            l1.append(i)\n",
    "\n",
    "    return l1\n",
    "            "
   ]
  },
  {
   "cell_type": "code",
   "execution_count": 43,
   "id": "c926c019",
   "metadata": {},
   "outputs": [
    {
     "data": {
      "text/plain": [
       "[23, 87, 98, 100]"
      ]
     },
     "execution_count": 43,
     "metadata": {},
     "output_type": "execute_result"
    }
   ],
   "source": [
    "test()"
   ]
  },
  {
   "cell_type": "code",
   "execution_count": null,
   "id": "fe1eece3",
   "metadata": {},
   "outputs": [],
   "source": [
    "Question2\n",
    "Given a list of numbers, create a function which returns the list but with each element&#39;s\n",
    "index in the list added to itself. This means you add 0 to the number at index 0, add 1 to the\n",
    "number at index 1, etc..."
   ]
  },
  {
   "cell_type": "code",
   "execution_count": 56,
   "id": "d64ba50d",
   "metadata": {},
   "outputs": [],
   "source": [
    "def test2():\n",
    "    l=[0,1,2,3,4,5]\n",
    "    l1=[]\n",
    "    for i in l:\n",
    "        k=i+l[i]\n",
    "        l1.append(k)\n",
    "        \n",
    "    return l1"
   ]
  },
  {
   "cell_type": "code",
   "execution_count": 58,
   "id": "6eefa507",
   "metadata": {},
   "outputs": [
    {
     "data": {
      "text/plain": [
       "[0, 2, 4, 6, 8, 10]"
      ]
     },
     "execution_count": 58,
     "metadata": {},
     "output_type": "execute_result"
    }
   ],
   "source": [
    "test2()  ##expected output"
   ]
  },
  {
   "cell_type": "code",
   "execution_count": null,
   "id": "f27da0d6",
   "metadata": {},
   "outputs": [],
   "source": [
    "Question3\n",
    "Create a function that takes the height and radius of a cone as arguments and returns the\n",
    "volume of the cone rounded to the nearest hundredth. See the resources tab for the formula."
   ]
  },
  {
   "cell_type": "code",
   "execution_count": 65,
   "id": "0f871fa6",
   "metadata": {},
   "outputs": [],
   "source": [
    "def test3(r,h):\n",
    "    k=r**2\n",
    "    cone_volume=float(0.33*k*h*3.14)\n",
    "    return cone_volume"
   ]
  },
  {
   "cell_type": "code",
   "execution_count": 66,
   "id": "93eae807",
   "metadata": {},
   "outputs": [
    {
     "data": {
      "text/plain": [
       "18.651600000000002"
      ]
     },
     "execution_count": 66,
     "metadata": {},
     "output_type": "execute_result"
    }
   ],
   "source": [
    "test3(3,2)"
   ]
  },
  {
   "cell_type": "code",
   "execution_count": null,
   "id": "75a7dd75",
   "metadata": {},
   "outputs": [],
   "source": [
    "Question4\n",
    "This Triangular Number Sequence is generated from a pattern of dots that form a triangle.\n",
    "The first 5 numbers of the sequence, or dots, are:\n",
    "1, 3, 6, 10, 15\n",
    "This means that the first triangle has just one dot, the second one has three dots, the third one\n",
    "has 6 dots and so on.\n",
    "Write a function that gives the number of dots with its corresponding triangle number of the\n",
    "sequence."
   ]
  },
  {
   "cell_type": "code",
   "execution_count": 84,
   "id": "4e4e321e",
   "metadata": {},
   "outputs": [],
   "source": [
    "\n",
    "def test4():\n",
    "    dots=[1,2,3,4,5]\n",
    "    triangle=[\"triangle1\",\"triangle2\",\"triangle3\",\"triangle4\",\"triangle5\"]\n",
    "    s=list(zip(triangle,dots))\n",
    "\n",
    "    return s"
   ]
  },
  {
   "cell_type": "code",
   "execution_count": 85,
   "id": "5b681364",
   "metadata": {},
   "outputs": [
    {
     "data": {
      "text/plain": [
       "[('triangle1', 1),\n",
       " ('triangle2', 2),\n",
       " ('triangle3', 3),\n",
       " ('triangle4', 4),\n",
       " ('triangle5', 5)]"
      ]
     },
     "execution_count": 85,
     "metadata": {},
     "output_type": "execute_result"
    }
   ],
   "source": [
    "test4()"
   ]
  },
  {
   "cell_type": "code",
   "execution_count": null,
   "id": "1cfd57e7",
   "metadata": {},
   "outputs": [],
   "source": [
    "Question5\n",
    "Create a function that takes a list of numbers between 1 and 10 (excluding one number) and\n",
    "returns the missing number."
   ]
  },
  {
   "cell_type": "code",
   "execution_count": 109,
   "id": "79c91546",
   "metadata": {},
   "outputs": [],
   "source": [
    "def test5():\n",
    "    l=[1,2,3,4,6,7,8,9,10]\n",
    "    l1=[]\n",
    "    for i in range(1,10):\n",
    "        if i  not in l:\n",
    "            l1.append(i)\n",
    "            \n",
    "    return l1\n",
    "        \n",
    "        "
   ]
  },
  {
   "cell_type": "code",
   "execution_count": 111,
   "id": "b18f4b82",
   "metadata": {},
   "outputs": [
    {
     "data": {
      "text/plain": [
       "[5]"
      ]
     },
     "execution_count": 111,
     "metadata": {},
     "output_type": "execute_result"
    }
   ],
   "source": [
    "test5() ##l1 contains missing number list"
   ]
  },
  {
   "cell_type": "code",
   "execution_count": null,
   "id": "1bf4b7aa",
   "metadata": {},
   "outputs": [],
   "source": []
  }
 ],
 "metadata": {
  "kernelspec": {
   "display_name": "Python 3 (ipykernel)",
   "language": "python",
   "name": "python3"
  },
  "language_info": {
   "codemirror_mode": {
    "name": "ipython",
    "version": 3
   },
   "file_extension": ".py",
   "mimetype": "text/x-python",
   "name": "python",
   "nbconvert_exporter": "python",
   "pygments_lexer": "ipython3",
   "version": "3.9.12"
  }
 },
 "nbformat": 4,
 "nbformat_minor": 5
}
