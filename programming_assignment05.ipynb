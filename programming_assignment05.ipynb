{
  "nbformat": 4,
  "nbformat_minor": 0,
  "metadata": {
    "colab": {
      "provenance": [],
      "collapsed_sections": []
    },
    "kernelspec": {
      "name": "python3",
      "display_name": "Python 3"
    },
    "language_info": {
      "name": "python"
    }
  },
  "cells": [
    {
      "cell_type": "markdown",
      "source": [
        "1. Write a Python Program to Find HCM?"
      ],
      "metadata": {
        "id": "4-lBuj6mSiUV"
      }
    },
    {
      "cell_type": "code",
      "execution_count": 1,
      "metadata": {
        "colab": {
          "base_uri": "https://localhost:8080/"
        },
        "id": "DKNxbX9QScji",
        "outputId": "b46d512b-7c90-46b0-8827-17ac050621e4"
      },
      "outputs": [
        {
          "output_type": "stream",
          "name": "stdout",
          "text": [
            "enter the value: 14\n",
            "enter the value: 12\n",
            "hcf of num1 and num2 is:2\n"
          ]
        }
      ],
      "source": [
        "num1=int(input(\"enter the value: \"))\n",
        "num2=int(input(\"enter the value: \"))\n",
        "for i in range(2,min(num1,num2)):\n",
        "  if num1%i==0 and num2%i==0:\n",
        "    \n",
        "    print(f\"hcf of num1 and num2 is:{i}\")"
      ]
    },
    {
      "cell_type": "markdown",
      "source": [
        "1. Write a Python Program to Find LCM?"
      ],
      "metadata": {
        "id": "kl93Qk6lVTBX"
      }
    },
    {
      "cell_type": "code",
      "source": [
        "num1=int(input(\"enter the value: \"))\n",
        "num2=int(input(\"enter the value: \"))\n",
        "for i in range (2,max(num1,num2)):\n",
        "  if num1%i==0 or num2%i==0:\n",
        "    print(i)\n",
        "    "
      ],
      "metadata": {
        "colab": {
          "base_uri": "https://localhost:8080/"
        },
        "id": "-Pjyvt1ET47z",
        "outputId": "458e756e-aa8f-475d-c06d-7b175aa30f39"
      },
      "execution_count": 40,
      "outputs": [
        {
          "output_type": "stream",
          "name": "stdout",
          "text": [
            "enter the value: 10\n",
            "enter the value: 15\n",
            "2\n",
            "3\n",
            "5\n",
            "10\n"
          ]
        }
      ]
    },
    {
      "cell_type": "markdown",
      "source": [
        "3. Write a Python Program to Convert Decimal to Binary, Octal and Hexadecimal?"
      ],
      "metadata": {
        "id": "-ddNQ1GV6-Vb"
      }
    },
    {
      "cell_type": "code",
      "source": [
        "n=int(input(\"enter the value: \"))\n",
        "l1=[]\n",
        "while n!=0:\n",
        "  r=n%2\n",
        "  l1.append(r)\n",
        "  n=n//2\n",
        "print(l1)\n",
        "\n",
        " "
      ],
      "metadata": {
        "id": "o6N_lPGuWtsY",
        "colab": {
          "base_uri": "https://localhost:8080/"
        },
        "outputId": "b43a387f-a236-4d19-a65f-0049b7fec723"
      },
      "execution_count": 17,
      "outputs": [
        {
          "output_type": "stream",
          "name": "stdout",
          "text": [
            "enter the value: 5\n",
            "[1, 0, 1]\n"
          ]
        }
      ]
    },
    {
      "cell_type": "code",
      "source": [
        "n=int(input(\"enter the number: \"))\n",
        "octal_digit=[]\n",
        "while n!=0:\n",
        "  r=n%8\n",
        "  octal_digit.append(r)\n",
        "  n=n//8\n",
        "print(f\"the octal value of decimal is {octal_digit[::-1]}\")\n"
      ],
      "metadata": {
        "colab": {
          "base_uri": "https://localhost:8080/"
        },
        "id": "AzGR5uyD9a-f",
        "outputId": "65debc79-36ac-4417-fd35-df942019c1d7"
      },
      "execution_count": 27,
      "outputs": [
        {
          "output_type": "stream",
          "name": "stdout",
          "text": [
            "enter the number: 7562\n",
            "the octal value of decimal is [1, 6, 6, 1, 2]\n"
          ]
        }
      ]
    },
    {
      "cell_type": "code",
      "source": [
        "n=int(input(\"enter the value: \"))\n",
        "hexadecimal=[]\n",
        "while n!=0:\n",
        "  r=n%16\n",
        "  hexadecimal.append(r)\n",
        "  n=n//16\n",
        "print(f\"the hexadecimal value of decimal is{hexadecimal[::-1]} \")"
      ],
      "metadata": {
        "colab": {
          "base_uri": "https://localhost:8080/"
        },
        "id": "yld7wGZKCm4P",
        "outputId": "5723f048-2223-49ef-b149-0e2358fe66a2"
      },
      "execution_count": 30,
      "outputs": [
        {
          "output_type": "stream",
          "name": "stdout",
          "text": [
            "enter the value: 35631\n",
            "the hexadecimal value of decimal is[8, 11, 2, 15] \n"
          ]
        }
      ]
    },
    {
      "cell_type": "markdown",
      "source": [
        "4. Write a Python Program To Find ASCII value of a character?"
      ],
      "metadata": {
        "id": "e1TWew1eFpj7"
      }
    },
    {
      "cell_type": "code",
      "source": [
        "n=int(input(\"enter the value: \"))\n",
        "if n>0:\n",
        "  k=chr(n)\n",
        "  print(k)\n",
        "else:\n",
        "  \n",
        "  print(\" enter the correct value \")"
      ],
      "metadata": {
        "colab": {
          "base_uri": "https://localhost:8080/"
        },
        "id": "DxYmw4nvJTET",
        "outputId": "5915ff17-311f-48c3-ebd6-5ee177e0e632"
      },
      "execution_count": 58,
      "outputs": [
        {
          "output_type": "stream",
          "name": "stdout",
          "text": [
            "enter the value: 77\n",
            "M\n"
          ]
        }
      ]
    },
    {
      "cell_type": "markdown",
      "source": [
        "5. Write a Python Program to Make a Simple Calculator with 4 basic mathematical operations?\n"
      ],
      "metadata": {
        "id": "zyUmLnwOGuiN"
      }
    },
    {
      "cell_type": "code",
      "source": [
        "n1=int(input(\"enter the value: \"))\n",
        "n2=int(input(\"enter the value: \"))\n",
        "if n1!=0 and n2!=0:\n",
        "  k=n1+n2\n",
        "  l=n1-n2\n",
        "  m=n1*n2\n",
        "  n=n1/n2\n",
        "print(k,\n",
        "      l,\n",
        "      m,\n",
        "      n)\n"
      ],
      "metadata": {
        "colab": {
          "base_uri": "https://localhost:8080/"
        },
        "id": "3putUSFdGvb5",
        "outputId": "0ad44f19-1b64-4025-c6ec-80009ead39c3"
      },
      "execution_count": 37,
      "outputs": [
        {
          "output_type": "stream",
          "name": "stdout",
          "text": [
            "enter the value: 10\n",
            "enter the value: 20\n",
            "30 -10 200 0.5\n"
          ]
        }
      ]
    },
    {
      "cell_type": "code",
      "source": [
        "2"
      ],
      "metadata": {
        "id": "yZlScu0gHQLK"
      },
      "execution_count": null,
      "outputs": []
    }
  ]
}