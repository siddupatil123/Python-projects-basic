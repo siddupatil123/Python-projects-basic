{
  "nbformat": 4,
  "nbformat_minor": 0,
  "metadata": {
    "colab": {
      "provenance": []
    },
    "kernelspec": {
      "name": "python3",
      "display_name": "Python 3"
    },
    "language_info": {
      "name": "python"
    }
  },
  "cells": [
    {
      "cell_type": "markdown",
      "source": [
        "1. Write a Python Program to Display Fibonacci Sequence Using Recursion?"
      ],
      "metadata": {
        "id": "1EZtFkhtUIma"
      }
    },
    {
      "cell_type": "code",
      "source": [
        "def fibonacci(n):\n",
        "  k=0\n",
        "  j=1\n",
        "  f=0\n",
        "  for i in range(n+1):\n",
        "    f=k+j\n",
        "    k=j\n",
        "    j=f\n",
        "    print(f)\n",
        "\n",
        "    "
      ],
      "metadata": {
        "id": "cq3UFVXyT0oH"
      },
      "execution_count": 19,
      "outputs": []
    },
    {
      "cell_type": "code",
      "source": [
        "fibonacci(5)"
      ],
      "metadata": {
        "colab": {
          "base_uri": "https://localhost:8080/"
        },
        "id": "tXDUS8-MV-Ql",
        "outputId": "5cd46066-c0c2-4f59-e279-0c6d53979a5c"
      },
      "execution_count": 20,
      "outputs": [
        {
          "output_type": "stream",
          "name": "stdout",
          "text": [
            "1\n",
            "2\n",
            "3\n",
            "5\n",
            "8\n",
            "13\n"
          ]
        }
      ]
    },
    {
      "cell_type": "markdown",
      "source": [
        "2. Write a Python Program to Find Factorial of Number Using Recursion?"
      ],
      "metadata": {
        "id": "hSxdclF7Yexz"
      }
    },
    {
      "cell_type": "code",
      "source": [
        "\n",
        "def factorial(n):\n",
        "  j=1\n",
        "  for i in range(1,n+1):\n",
        "    fact=i*j\n",
        "    j=fact\n",
        "    print(fact)\n",
        "    "
      ],
      "metadata": {
        "id": "_7YeH_4yX6ir"
      },
      "execution_count": 29,
      "outputs": []
    },
    {
      "cell_type": "code",
      "source": [
        "factorial(5)"
      ],
      "metadata": {
        "colab": {
          "base_uri": "https://localhost:8080/"
        },
        "id": "4mr9uH0-YweQ",
        "outputId": "70a16d58-5820-47dc-d04e-8ba1857d13fa"
      },
      "execution_count": 30,
      "outputs": [
        {
          "output_type": "stream",
          "name": "stdout",
          "text": [
            "1\n",
            "2\n",
            "6\n",
            "24\n",
            "120\n"
          ]
        }
      ]
    },
    {
      "cell_type": "markdown",
      "source": [
        "3. Write a Python Program to calculate your Body Mass Index?"
      ],
      "metadata": {
        "id": "tFtyzCTda2Lo"
      }
    },
    {
      "cell_type": "code",
      "source": [
        "weight=int(input(\"enter the value: \"))\n",
        "height=float(input(\"enter the value: \"))\n",
        "if type(weight)==int and type(height)==float:\n",
        "  body_mass=float(weight/height)\n",
        "  print(body_mass)\n",
        "else:\n",
        "  print(\"enter the correct value\")"
      ],
      "metadata": {
        "colab": {
          "base_uri": "https://localhost:8080/"
        },
        "id": "dxyzbtkTYyix",
        "outputId": "35a114b4-32fa-430d-a0b9-1dcfd3ac2b1b"
      },
      "execution_count": 31,
      "outputs": [
        {
          "output_type": "stream",
          "name": "stdout",
          "text": [
            "enter the value: 70\n",
            "enter the value: 5.4\n",
            "12.962962962962962\n"
          ]
        }
      ]
    },
    {
      "cell_type": "markdown",
      "source": [
        "4. Write a Python Program to calculate the natural logarithm of any number?"
      ],
      "metadata": {
        "id": "U68IPCdpcDoI"
      }
    },
    {
      "cell_type": "code",
      "source": [
        "import math\n",
        "number=int(input(\"enter the value: \"))\n",
        "e=2.71\n",
        "if type(number)==int:\n",
        "  x=e**math.log(number)\n",
        "  print(x)\n",
        "else:\n",
        "  print(\"enter the correct value\")"
      ],
      "metadata": {
        "colab": {
          "base_uri": "https://localhost:8080/"
        },
        "id": "-bekmD7KbyD9",
        "outputId": "913f8815-0ceb-4777-8424-58a16f810774"
      },
      "execution_count": 35,
      "outputs": [
        {
          "output_type": "stream",
          "name": "stdout",
          "text": [
            "enter the value: 10\n",
            "9.92998597016218\n"
          ]
        }
      ]
    },
    {
      "cell_type": "markdown",
      "source": [
        "5. Write a Python Program for cube sum of first n natural numbers?"
      ],
      "metadata": {
        "id": "buACf65Wd-aK"
      }
    },
    {
      "cell_type": "code",
      "source": [
        "n=int(input(\"enter the value:  \"))\n",
        "if type(n)==int:\n",
        "  sum=(n+1)**2/4\n",
        "  sum_of_cube=n**2 *sum\n",
        "  print(sum_of_cube)"
      ],
      "metadata": {
        "colab": {
          "base_uri": "https://localhost:8080/"
        },
        "id": "PP2dwOchdZxm",
        "outputId": "8453fc6e-706d-4ba6-bfd6-0a8545a78422"
      },
      "execution_count": 44,
      "outputs": [
        {
          "output_type": "stream",
          "name": "stdout",
          "text": [
            "enter the value:  10\n",
            "3025.0\n"
          ]
        }
      ]
    },
    {
      "cell_type": "code",
      "source": [],
      "metadata": {
        "id": "SGgW9PLGeqkp"
      },
      "execution_count": 39,
      "outputs": []
    }
  ]
}