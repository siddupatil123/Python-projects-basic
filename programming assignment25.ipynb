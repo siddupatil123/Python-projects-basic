{
 "cells": [
  {
   "cell_type": "code",
   "execution_count": null,
   "id": "9c932076",
   "metadata": {},
   "outputs": [],
   "source": [
    "Question1\n",
    "Create a function that takes three integer arguments (a, b, c) and returns the amount of\n",
    "integers which are of equal value."
   ]
  },
  {
   "cell_type": "code",
   "execution_count": 80,
   "id": "5e368d70",
   "metadata": {},
   "outputs": [],
   "source": [
    "def test(a,b,c):\n",
    "    if a==b or b==c or c==a:\n",
    "        return 2\n",
    "    elif a==b==c:\n",
    "        return 3\n",
    "    elif a!=b!=c:\n",
    "        return 0"
   ]
  },
  {
   "cell_type": "code",
   "execution_count": 81,
   "id": "e412eac6",
   "metadata": {},
   "outputs": [
    {
     "data": {
      "text/plain": [
       "2"
      ]
     },
     "execution_count": 81,
     "metadata": {},
     "output_type": "execute_result"
    }
   ],
   "source": [
    "test(4,3,4)"
   ]
  },
  {
   "cell_type": "code",
   "execution_count": null,
   "id": "12aba2dd",
   "metadata": {},
   "outputs": [],
   "source": [
    "Question2\n",
    "Write a function that converts a dictionary into a list of keys-values tuples."
   ]
  },
  {
   "cell_type": "code",
   "execution_count": 82,
   "id": "4119d186",
   "metadata": {},
   "outputs": [],
   "source": [
    "def test2():\n",
    "    d={\"p\":\"P\",\"s\":\"S\"}\n",
    "    a=d.keys()\n",
    "    return a"
   ]
  },
  {
   "cell_type": "code",
   "execution_count": 83,
   "id": "76598b1f",
   "metadata": {},
   "outputs": [
    {
     "data": {
      "text/plain": [
       "dict_keys(['p', 's'])"
      ]
     },
     "execution_count": 83,
     "metadata": {},
     "output_type": "execute_result"
    }
   ],
   "source": [
    "test2()"
   ]
  },
  {
   "cell_type": "code",
   "execution_count": 19,
   "id": "80da7a14",
   "metadata": {},
   "outputs": [],
   "source": [
    "def test2():\n",
    "    d={\"d\":1,\"b\":2,\"c\":3}\n",
    "    a=set(d.items())\n",
    "    return a"
   ]
  },
  {
   "cell_type": "code",
   "execution_count": 20,
   "id": "222e5f9a",
   "metadata": {},
   "outputs": [
    {
     "data": {
      "text/plain": [
       "{('b', 2), ('c', 3), ('d', 1)}"
      ]
     },
     "execution_count": 20,
     "metadata": {},
     "output_type": "execute_result"
    }
   ],
   "source": [
    "test2()"
   ]
  },
  {
   "cell_type": "code",
   "execution_count": null,
   "id": "6022bcdd",
   "metadata": {},
   "outputs": [],
   "source": [
    "Question3\n",
    "Write a function that creates a dictionary with each (key, value) pair being the (lower case,\n",
    "upper case) versions of a letter, respectively."
   ]
  },
  {
   "cell_type": "code",
   "execution_count": null,
   "id": "d250a872",
   "metadata": {},
   "outputs": [],
   "source": []
  },
  {
   "cell_type": "code",
   "execution_count": null,
   "id": "016b8a67",
   "metadata": {},
   "outputs": [],
   "source": []
  },
  {
   "cell_type": "code",
   "execution_count": null,
   "id": "44d35ad5",
   "metadata": {},
   "outputs": [],
   "source": [
    "Question4\n",
    "Write a function, that replaces all vowels in a string with a specified vowel."
   ]
  },
  {
   "cell_type": "code",
   "execution_count": 39,
   "id": "82ede2cb",
   "metadata": {},
   "outputs": [],
   "source": [
    "def test4():\n",
    "    l=[\"a\",\"e\",\"i\",\"o\",\"u\"]\n",
    "    s=\"apples and bananas\"\n",
    "    for i in s:\n",
    "        if i in l:\n",
    "            b=s.replace(i,\"u\")\n",
    "            return b"
   ]
  },
  {
   "cell_type": "code",
   "execution_count": 40,
   "id": "d286e5e2",
   "metadata": {},
   "outputs": [
    {
     "data": {
      "text/plain": [
       "'upples und bununus'"
      ]
     },
     "execution_count": 40,
     "metadata": {},
     "output_type": "execute_result"
    }
   ],
   "source": [
    "test4()"
   ]
  },
  {
   "cell_type": "code",
   "execution_count": null,
   "id": "871e456d",
   "metadata": {},
   "outputs": [],
   "source": [
    "Question5\n",
    "Create a function that takes a string as input and capitalizes a letter if its ASCII code is even\n",
    "and returns its lower case version if its ASCII code is odd."
   ]
  },
  {
   "cell_type": "code",
   "execution_count": 76,
   "id": "b5d6fefb",
   "metadata": {},
   "outputs": [],
   "source": [
    "def test5():\n",
    "    s=\"to be or not to be\"\n",
    "    for i in s:\n",
    "        if ord(i)%2==0:\n",
    "            s=i.capitalize()\n",
    "            print(s)\n",
    "        else:\n",
    "            s=i.lower()\n",
    "            print(s)\n",
    "       "
   ]
  },
  {
   "cell_type": "code",
   "execution_count": 77,
   "id": "a7591379",
   "metadata": {},
   "outputs": [
    {
     "name": "stdout",
     "output_type": "stream",
     "text": [
      "T\n",
      "o\n",
      " \n",
      "B\n",
      "e\n",
      " \n",
      "o\n",
      "R\n",
      " \n",
      "N\n",
      "o\n",
      "T\n",
      " \n",
      "T\n",
      "o\n",
      " \n",
      "B\n",
      "e\n"
     ]
    }
   ],
   "source": [
    "test5()"
   ]
  },
  {
   "cell_type": "code",
   "execution_count": null,
   "id": "1befcda8",
   "metadata": {},
   "outputs": [],
   "source": []
  },
  {
   "cell_type": "code",
   "execution_count": null,
   "id": "52a53c6d",
   "metadata": {},
   "outputs": [],
   "source": []
  },
  {
   "cell_type": "code",
   "execution_count": null,
   "id": "9df0b3ad",
   "metadata": {},
   "outputs": [],
   "source": []
  },
  {
   "cell_type": "code",
   "execution_count": null,
   "id": "616178aa",
   "metadata": {},
   "outputs": [],
   "source": []
  }
 ],
 "metadata": {
  "kernelspec": {
   "display_name": "Python 3 (ipykernel)",
   "language": "python",
   "name": "python3"
  },
  "language_info": {
   "codemirror_mode": {
    "name": "ipython",
    "version": 3
   },
   "file_extension": ".py",
   "mimetype": "text/x-python",
   "name": "python",
   "nbconvert_exporter": "python",
   "pygments_lexer": "ipython3",
   "version": "3.9.12"
  }
 },
 "nbformat": 4,
 "nbformat_minor": 5
}
